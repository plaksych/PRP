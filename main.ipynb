{
 "cells": [
  {
   "cell_type": "markdown",
   "metadata": {},
   "source": [
    "# YOLOv5 Training and Detection\n",
    "\n",
    "Этот блокнот предназначен для обучения модели YOLOv5 и использования ее для распознавания изображений.\n",
    "\n",
    "## 1. Обучение модели"
   ]
  },
  {
   "cell_type": "code",
   "execution_count": null,
   "metadata": {},
   "outputs": [],
   "source": [
    "# Импорт необходимых библиотек\n",
    "import os\n",
    "import cv2\n",
    "import numpy as np"
   ]
  },
  {
   "cell_type": "code",
   "execution_count": null,
   "metadata": {},
   "outputs": [],
   "source": [
    "# Определение параметров обучения\n",
    "img_size = 640  # размер изображения\n",
    "batch_size = 16  # размер пакета\n",
    "epochs = 50  # количество эпох\n",
    "data_config = os.path.join('yolov5', 'config.yaml')  # путь к вашему .yaml файлу\n",
    "weights = 'yolov5s.pt'  # предобученные веса\n",
    "\n",
    "# Запуск процесса обучения\n",
    "# os.system(f'python train.py --img {img_size} --batch {batch_size} --epochs {epochs} --data {data_config} --weights {weights}')\n",
    "\n",
    "# Запуск процесса обучения без размера изображения\n",
    "os.system(f'python train.py --batch {batch_size} --epochs {epochs} --data {data_config} --weights {weights}')"
   ]
  },
  {
   "cell_type": "markdown",
   "metadata": {},
   "source": [
    "## 2. Распознавание изображения на обученной модели"
   ]
  },
  {
   "cell_type": "code",
   "execution_count": null,
   "metadata": {},
   "outputs": [],
   "source": [
    "# Определение параметров для распознавания\n",
    "detect_weights = os.path.join('yolov5', 'runs', 'train', 'exp', 'weights', 'best.pt') # путь к оптимальным весам после обучения\n",
    "conf_threshold = 0.25  # порог уверенности\n",
    "image_source = os.path.join('path_to_your_image.jpg')  # путь к вашему изображению\n",
    "\n",
    "# Запуск распознавания\n",
    "# os.system(f'python detect.py --weights {detect_weights} --img {img_size} --conf {conf_threshold} --source {image_source}')\n",
    "\n",
    "# Запуск распознавания без размера изображения\n",
    "os.system(f'python detect.py --weights {detect_weights} --conf {conf_threshold} --source {image_source}')\n",
    "\n",
    "# Проверка наличия результатов\n",
    "result_directory = os.path.join('yolov5', 'runs', 'detect', 'exp') # Папка с результатами детекции\n",
    "results_found = False  # Переменная для отслеживания наличия результатов\n",
    "\n",
    "# Проверка, существуют ли обнаруженные картинки и соответствующие метки\n",
    "for filename in os.listdir(result_directory):\n",
    "    if filename.endswith('.jpg') or filename.endswith('.png'):\n",
    "        # Загрузка изображения\n",
    "        image_path = os.path.join(result_directory, filename)\n",
    "        img = cv2.imread(image_path)\n",
    "\n",
    "        # Проверяем, найдено ли хотя бы одно обнаруженное лицо\n",
    "        # Посмотрим наличие меток (например, если вы обнаружаете паспорта, паспорт должен иметь класс 0)\n",
    "        label_file_path = os.path.join(result_directory, filename.replace('.jpg', '.txt').replace('.png', '.txt'))\n",
    "        if os.path.exists(label_file_path):\n",
    "            with open(label_file_path, 'r') as f:\n",
    "                labels = f.readlines()\n",
    "                if any('0' in label for label in labels):  # Проверка наличия класса '0'\n",
    "                    results_found = True\n",
    "\n",
    "# Вывод сообщения на экран\n",
    "if results_found:\n",
    "    print(\"Паспорт найден на изображении.\")\n",
    "else:\n",
    "    print(\"Паспорт не найден на изображении.\")"
   ]
  }
 ],
 "metadata": {
  "kernelspec": {
   "display_name": "venv",
   "language": "python",
   "name": "python3"
  },
  "language_info": {
   "name": "python",
   "version": "3.12.2"
  }
 },
 "nbformat": 4,
 "nbformat_minor": 2
}
